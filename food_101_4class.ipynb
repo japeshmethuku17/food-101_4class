{
  "nbformat": 4,
  "nbformat_minor": 0,
  "metadata": {
    "colab": {
      "name": "food-101_4class.ipynb",
      "provenance": [],
      "collapsed_sections": [],
      "authorship_tag": "ABX9TyOBddFTFQivU4vDlI4t113F",
      "include_colab_link": true
    },
    "kernelspec": {
      "name": "python3",
      "display_name": "Python 3"
    },
    "accelerator": "GPU"
  },
  "cells": [
    {
      "cell_type": "markdown",
      "metadata": {
        "id": "view-in-github",
        "colab_type": "text"
      },
      "source": [
        "<a href=\"https://colab.research.google.com/github/japeshmethuku17/food-101_4class/blob/master/food_101_4class.ipynb\" target=\"_parent\"><img src=\"https://colab.research.google.com/assets/colab-badge.svg\" alt=\"Open In Colab\"/></a>"
      ]
    },
    {
      "cell_type": "markdown",
      "metadata": {
        "id": "8P0xHbfBUS4z",
        "colab_type": "text"
      },
      "source": [
        " # **Computer Vision and Deep Learning**\n"
      ]
    },
    {
      "cell_type": "markdown",
      "metadata": {
        "id": "MlVQg5EpLv0L",
        "colab_type": "text"
      },
      "source": [
        "# **Finetuning the RESNET50 model to classify the images from food101_4class dataset**"
      ]
    },
    {
      "cell_type": "markdown",
      "metadata": {
        "id": "wZ_0mjcnL_dm",
        "colab_type": "text"
      },
      "source": [
        "# **Importing all the necessary libraries**"
      ]
    },
    {
      "cell_type": "code",
      "metadata": {
        "id": "DIFrz3nsI4Jq",
        "colab_type": "code",
        "outputId": "4e34fdcf-056a-42d0-fb0d-19c665218363",
        "colab": {
          "base_uri": "https://localhost:8080/",
          "height": 33
        }
      },
      "source": [
        "import tensorflow as tf\n",
        "from tensorflow import keras\n",
        "from sklearn.model_selection import train_test_split\n",
        "from tensorflow.keras import utils\n",
        "from tensorflow.keras import datasets, layers, models, callbacks\n",
        "from tensorflow.keras.layers import Conv2D, MaxPooling2D, Dense, Dropout, Flatten, Activation, BatchNormalization\n",
        "from tensorflow.keras.preprocessing.image import ImageDataGenerator, img_to_array, load_img\n",
        "from tensorflow.keras import optimizers\n",
        "from tensorflow.keras.optimizers import SGD, Adam, Adagrad, Adadelta, RMSprop\n",
        "from tensorflow.python.keras.models import Sequential, Model, load_model\n",
        "from tensorflow.keras.callbacks import TensorBoard, ReduceLROnPlateau, ModelCheckpoint, EarlyStopping, CSVLogger\n",
        "from tensorflow.keras.layers import Input, Add, AveragePooling2D, GlobalAveragePooling2D, GlobalMaxPooling2D\n",
        "from tensorflow.keras.initializers import glorot_uniform\n",
        "from tensorflow.keras.utils import to_categorical\n",
        "from tensorflow.keras.models import model_from_json\n",
        "from tensorflow.keras.applications import ResNet50\n",
        "from tensorflow.keras.applications.resnet50 import preprocess_input\n",
        "from sklearn import preprocessing\n",
        "from sklearn.preprocessing import LabelEncoder\n",
        "import pydot\n",
        "from matplotlib.pyplot import imshow\n",
        "import scipy.misc\n",
        "import os \n",
        "import glob\n",
        "import gc\n",
        "import numpy as np\n",
        "import pandas as pd\n",
        "import cv2\n",
        "from joblib import Parallel, delayed\n",
        "import matplotlib.pyplot as plt\n",
        "import sklearn.metrics as metrics\n",
        "import os\n",
        "import zipfile\n",
        "from google.colab import drive\n",
        "import seaborn as sns\n",
        "from time import time\n",
        "print(\"tensorflow version:\",tf.__version__)"
      ],
      "execution_count": 2,
      "outputs": [
        {
          "output_type": "stream",
          "text": [
            "tensorflow version: 2.2.0\n"
          ],
          "name": "stdout"
        }
      ]
    },
    {
      "cell_type": "markdown",
      "metadata": {
        "id": "kXU13Yq9MHrU",
        "colab_type": "text"
      },
      "source": [
        "# **Mount Google Drive to load the data**"
      ]
    },
    {
      "cell_type": "code",
      "metadata": {
        "id": "yV3CPBkpJVLw",
        "colab_type": "code",
        "outputId": "9523c8be-0ce8-4ab2-9ce6-6f53c6a9dfad",
        "colab": {
          "base_uri": "https://localhost:8080/",
          "height": 120
        }
      },
      "source": [
        "drive.mount('/content/drive/', force_remount=True)\n",
        "\n",
        "zip_ref = zipfile.ZipFile(\"/content/drive/My Drive/food101_4class.zip\", 'r')\n",
        "zip_ref.extractall(\"/tmp\")\n",
        "zip_ref.close()"
      ],
      "execution_count": 3,
      "outputs": [
        {
          "output_type": "stream",
          "text": [
            "Go to this URL in a browser: https://accounts.google.com/o/oauth2/auth?client_id=947318989803-6bn6qk8qdgf4n4g3pfee6491hc0brc4i.apps.googleusercontent.com&redirect_uri=urn%3aietf%3awg%3aoauth%3a2.0%3aoob&response_type=code&scope=email%20https%3a%2f%2fwww.googleapis.com%2fauth%2fdocs.test%20https%3a%2f%2fwww.googleapis.com%2fauth%2fdrive%20https%3a%2f%2fwww.googleapis.com%2fauth%2fdrive.photos.readonly%20https%3a%2f%2fwww.googleapis.com%2fauth%2fpeopleapi.readonly\n",
            "\n",
            "Enter your authorization code:\n",
            "··········\n",
            "Mounted at /content/drive/\n"
          ],
          "name": "stdout"
        }
      ]
    },
    {
      "cell_type": "markdown",
      "metadata": {
        "id": "tQn2_HQtMj8M",
        "colab_type": "text"
      },
      "source": [
        "Specifying the directories"
      ]
    },
    {
      "cell_type": "code",
      "metadata": {
        "id": "WuywS4xNJWB7",
        "colab_type": "code",
        "colab": {}
      },
      "source": [
        "training_dir = '/tmp/train/'\n",
        "testing_dir = '/tmp/test/'\n",
        "validation_dir = '/tmp/validation/'"
      ],
      "execution_count": 0,
      "outputs": []
    },
    {
      "cell_type": "markdown",
      "metadata": {
        "id": "mhNVlTrEMonX",
        "colab_type": "text"
      },
      "source": [
        "# **Exploratory Data Analysis**"
      ]
    },
    {
      "cell_type": "markdown",
      "metadata": {
        "id": "fkDLliKhMxE7",
        "colab_type": "text"
      },
      "source": [
        "### **Comparing the images in Training and Validation sets**"
      ]
    },
    {
      "cell_type": "code",
      "metadata": {
        "id": "9zDF1-NMKZT3",
        "colab_type": "code",
        "outputId": "04fddc34-51e7-4998-9a70-57ef8e24ca3b",
        "colab": {
          "base_uri": "https://localhost:8080/",
          "height": 117
        }
      },
      "source": [
        "from PIL import Image\n",
        "count1=0\n",
        "CATEGORIES = ['chicken_curry', 'hamburger', 'omelette', 'waffles']\n",
        "from tqdm import tqdm\n",
        "for category in CATEGORIES:\n",
        "      path1 = os.path.join(training_dir, category)\n",
        "      path2 = os.path.join(validation_dir, category)\n",
        "      class_num = CATEGORIES.index(category)\n",
        "      for img in tqdm(os.listdir(path2)):\n",
        "        img1 = cv2.imread(os.path.join(path1, img), cv2.IMREAD_UNCHANGED)\n",
        "        img2 = cv2.imread(os.path.join(path2, img), cv2.IMREAD_UNCHANGED)\n",
        "        im1 = Image.open(os.path.join(path1, img))\n",
        "        im2 = Image.open(os.path.join(path2, img))\n",
        "        if im1 == im2:\n",
        "          count1+=1\n",
        "print()\n",
        "print(count1,\"matches found!\")"
      ],
      "execution_count": 6,
      "outputs": [
        {
          "output_type": "stream",
          "text": [
            "100%|██████████| 569/569 [00:08<00:00, 67.99it/s]\n",
            "100%|██████████| 541/541 [00:07<00:00, 72.33it/s]\n",
            "100%|██████████| 577/577 [00:08<00:00, 69.14it/s]\n",
            "100%|██████████| 530/530 [00:07<00:00, 72.11it/s]"
          ],
          "name": "stderr"
        },
        {
          "output_type": "stream",
          "text": [
            "\n",
            "2217 matches found!\n"
          ],
          "name": "stdout"
        },
        {
          "output_type": "stream",
          "text": [
            "\n"
          ],
          "name": "stderr"
        }
      ]
    },
    {
      "cell_type": "markdown",
      "metadata": {
        "id": "m6h-gBygT4K_",
        "colab_type": "text"
      },
      "source": [
        "All images in the validation set are found in the training set."
      ]
    },
    {
      "cell_type": "markdown",
      "metadata": {
        "id": "JWRYan9gNAPd",
        "colab_type": "text"
      },
      "source": [
        "### **Comparing the images in Training and Testing sets**"
      ]
    },
    {
      "cell_type": "code",
      "metadata": {
        "id": "d_kfccNWUJnz",
        "colab_type": "code",
        "outputId": "150b547b-039d-4ad3-a631-4c6db28679de",
        "colab": {
          "base_uri": "https://localhost:8080/",
          "height": 117
        }
      },
      "source": [
        "from PIL import Image\n",
        "count1=0\n",
        "CATEGORIES = ['chicken_curry', 'hamburger', 'omelette', 'waffles']\n",
        "from tqdm import tqdm\n",
        "for category in CATEGORIES:\n",
        "      path1 = os.path.join(training_dir, category)\n",
        "      path2 = os.path.join(testing_dir, category)\n",
        "      class_num = CATEGORIES.index(category)\n",
        "      for img in tqdm(os.listdir(path2)):\n",
        "        img1 = cv2.imread(os.path.join(path1, img), cv2.IMREAD_UNCHANGED)\n",
        "        img2 = cv2.imread(os.path.join(path2, img), cv2.IMREAD_UNCHANGED)\n",
        "        im1 = Image.open(os.path.join(path1, img))\n",
        "        im2 = Image.open(os.path.join(path2, img))\n",
        "        if im1 == im2:\n",
        "          count1+=1\n",
        "print()\n",
        "print(count1,\"matches found!\")"
      ],
      "execution_count": 7,
      "outputs": [
        {
          "output_type": "stream",
          "text": [
            "100%|██████████| 552/552 [00:08<00:00, 62.26it/s]\n",
            "100%|██████████| 534/534 [00:08<00:00, 64.95it/s]\n",
            "100%|██████████| 518/518 [00:08<00:00, 63.31it/s]\n",
            "100%|██████████| 524/524 [00:08<00:00, 62.53it/s]"
          ],
          "name": "stderr"
        },
        {
          "output_type": "stream",
          "text": [
            "\n",
            "2128 matches found!\n"
          ],
          "name": "stdout"
        },
        {
          "output_type": "stream",
          "text": [
            "\n"
          ],
          "name": "stderr"
        }
      ]
    },
    {
      "cell_type": "markdown",
      "metadata": {
        "id": "7aq9rde3TXKX",
        "colab_type": "text"
      },
      "source": [
        "All images in the testing set are found in the training set."
      ]
    },
    {
      "cell_type": "markdown",
      "metadata": {
        "id": "y1WOCJmeNFOO",
        "colab_type": "text"
      },
      "source": [
        "**Checking the availability of GPU for computing**"
      ]
    },
    {
      "cell_type": "code",
      "metadata": {
        "id": "UYW4NddD5syL",
        "colab_type": "code",
        "outputId": "f31e1b61-b5e3-44f6-924f-407797fb8ad1",
        "colab": {
          "base_uri": "https://localhost:8080/",
          "height": 33
        }
      },
      "source": [
        "device_name = tf.test.gpu_device_name()\n",
        "if device_name != '/device:GPU:0':\n",
        "  raise SystemError('GPU device not found')\n",
        "print('Found GPU at: {}'.format(device_name))"
      ],
      "execution_count": 8,
      "outputs": [
        {
          "output_type": "stream",
          "text": [
            "Found GPU at: /device:GPU:0\n"
          ],
          "name": "stdout"
        }
      ]
    },
    {
      "cell_type": "markdown",
      "metadata": {
        "id": "sOxlEdEPNLb5",
        "colab_type": "text"
      },
      "source": [
        "# **Using ImageDataGenerator to feed the data into the network**"
      ]
    },
    {
      "cell_type": "code",
      "metadata": {
        "id": "HB-Zd2FH6Ckx",
        "colab_type": "code",
        "outputId": "44c1afa1-bcc1-461e-ac07-6ec4bf562885",
        "colab": {
          "base_uri": "https://localhost:8080/",
          "height": 67
        }
      },
      "source": [
        "train_datagen = ImageDataGenerator(rescale=1./255)\n",
        "test_datagen = ImageDataGenerator(rescale=1./255)\n",
        "valid_datagen = ImageDataGenerator(rescale = 1./255)\n",
        "train_data = train_datagen.flow_from_directory('/tmp/train/', class_mode='categorical', target_size=(224,224), batch_size=32)\n",
        "test_data = test_datagen.flow_from_directory('/tmp/test/', class_mode='categorical', target_size=(224,224), batch_size=32,shuffle=False)\n",
        "valid_data = valid_datagen.flow_from_directory('/tmp/validation/', class_mode='categorical', target_size=(224,224), batch_size=32,shuffle=False)"
      ],
      "execution_count": 9,
      "outputs": [
        {
          "output_type": "stream",
          "text": [
            "Found 4000 images belonging to 4 classes.\n",
            "Found 2128 images belonging to 4 classes.\n",
            "Found 2217 images belonging to 4 classes.\n"
          ],
          "name": "stdout"
        }
      ]
    },
    {
      "cell_type": "markdown",
      "metadata": {
        "id": "OVBpRojHNVLE",
        "colab_type": "text"
      },
      "source": [
        "# **Loading the pre-trained ResNet50 model**"
      ]
    },
    {
      "cell_type": "markdown",
      "metadata": {
        "id": "ZBoUazGASpif",
        "colab_type": "text"
      },
      "source": [
        "Specifying the weights and input_shape. The \"include_top = False\" indicates that the pre-trained model is used on another classification challenge instead of ImageNet. In this case, we want to classify images of four different categories."
      ]
    },
    {
      "cell_type": "code",
      "metadata": {
        "id": "mF9loenv8tJ3",
        "colab_type": "code",
        "colab": {
          "base_uri": "https://localhost:8080/",
          "height": 70
        },
        "outputId": "2129d641-a7e6-42c8-ac9e-7b3c56e0656a"
      },
      "source": [
        "resnet_base = ResNet50(weights='imagenet', include_top=False, input_shape=(224,224,3))"
      ],
      "execution_count": 10,
      "outputs": [
        {
          "output_type": "stream",
          "text": [
            "Downloading data from https://storage.googleapis.com/tensorflow/keras-applications/resnet/resnet50_weights_tf_dim_ordering_tf_kernels_notop.h5\n",
            "94773248/94765736 [==============================] - 1s 0us/step\n"
          ],
          "name": "stdout"
        }
      ]
    },
    {
      "cell_type": "markdown",
      "metadata": {
        "id": "ffkPHdviNbN8",
        "colab_type": "text"
      },
      "source": [
        "Displaying the pre-trained ResNet50 model's architecture"
      ]
    },
    {
      "cell_type": "code",
      "metadata": {
        "id": "M9zTrwea-xH9",
        "colab_type": "code",
        "outputId": "666aff6c-41a1-4f6d-83d5-f5fc151f0d63",
        "colab": {
          "base_uri": "https://localhost:8080/",
          "height": 1000
        }
      },
      "source": [
        "resnet_base.summary()"
      ],
      "execution_count": 11,
      "outputs": [
        {
          "output_type": "stream",
          "text": [
            "Model: \"resnet50\"\n",
            "__________________________________________________________________________________________________\n",
            "Layer (type)                    Output Shape         Param #     Connected to                     \n",
            "==================================================================================================\n",
            "input_1 (InputLayer)            [(None, 224, 224, 3) 0                                            \n",
            "__________________________________________________________________________________________________\n",
            "conv1_pad (ZeroPadding2D)       (None, 230, 230, 3)  0           input_1[0][0]                    \n",
            "__________________________________________________________________________________________________\n",
            "conv1_conv (Conv2D)             (None, 112, 112, 64) 9472        conv1_pad[0][0]                  \n",
            "__________________________________________________________________________________________________\n",
            "conv1_bn (BatchNormalization)   (None, 112, 112, 64) 256         conv1_conv[0][0]                 \n",
            "__________________________________________________________________________________________________\n",
            "conv1_relu (Activation)         (None, 112, 112, 64) 0           conv1_bn[0][0]                   \n",
            "__________________________________________________________________________________________________\n",
            "pool1_pad (ZeroPadding2D)       (None, 114, 114, 64) 0           conv1_relu[0][0]                 \n",
            "__________________________________________________________________________________________________\n",
            "pool1_pool (MaxPooling2D)       (None, 56, 56, 64)   0           pool1_pad[0][0]                  \n",
            "__________________________________________________________________________________________________\n",
            "conv2_block1_1_conv (Conv2D)    (None, 56, 56, 64)   4160        pool1_pool[0][0]                 \n",
            "__________________________________________________________________________________________________\n",
            "conv2_block1_1_bn (BatchNormali (None, 56, 56, 64)   256         conv2_block1_1_conv[0][0]        \n",
            "__________________________________________________________________________________________________\n",
            "conv2_block1_1_relu (Activation (None, 56, 56, 64)   0           conv2_block1_1_bn[0][0]          \n",
            "__________________________________________________________________________________________________\n",
            "conv2_block1_2_conv (Conv2D)    (None, 56, 56, 64)   36928       conv2_block1_1_relu[0][0]        \n",
            "__________________________________________________________________________________________________\n",
            "conv2_block1_2_bn (BatchNormali (None, 56, 56, 64)   256         conv2_block1_2_conv[0][0]        \n",
            "__________________________________________________________________________________________________\n",
            "conv2_block1_2_relu (Activation (None, 56, 56, 64)   0           conv2_block1_2_bn[0][0]          \n",
            "__________________________________________________________________________________________________\n",
            "conv2_block1_0_conv (Conv2D)    (None, 56, 56, 256)  16640       pool1_pool[0][0]                 \n",
            "__________________________________________________________________________________________________\n",
            "conv2_block1_3_conv (Conv2D)    (None, 56, 56, 256)  16640       conv2_block1_2_relu[0][0]        \n",
            "__________________________________________________________________________________________________\n",
            "conv2_block1_0_bn (BatchNormali (None, 56, 56, 256)  1024        conv2_block1_0_conv[0][0]        \n",
            "__________________________________________________________________________________________________\n",
            "conv2_block1_3_bn (BatchNormali (None, 56, 56, 256)  1024        conv2_block1_3_conv[0][0]        \n",
            "__________________________________________________________________________________________________\n",
            "conv2_block1_add (Add)          (None, 56, 56, 256)  0           conv2_block1_0_bn[0][0]          \n",
            "                                                                 conv2_block1_3_bn[0][0]          \n",
            "__________________________________________________________________________________________________\n",
            "conv2_block1_out (Activation)   (None, 56, 56, 256)  0           conv2_block1_add[0][0]           \n",
            "__________________________________________________________________________________________________\n",
            "conv2_block2_1_conv (Conv2D)    (None, 56, 56, 64)   16448       conv2_block1_out[0][0]           \n",
            "__________________________________________________________________________________________________\n",
            "conv2_block2_1_bn (BatchNormali (None, 56, 56, 64)   256         conv2_block2_1_conv[0][0]        \n",
            "__________________________________________________________________________________________________\n",
            "conv2_block2_1_relu (Activation (None, 56, 56, 64)   0           conv2_block2_1_bn[0][0]          \n",
            "__________________________________________________________________________________________________\n",
            "conv2_block2_2_conv (Conv2D)    (None, 56, 56, 64)   36928       conv2_block2_1_relu[0][0]        \n",
            "__________________________________________________________________________________________________\n",
            "conv2_block2_2_bn (BatchNormali (None, 56, 56, 64)   256         conv2_block2_2_conv[0][0]        \n",
            "__________________________________________________________________________________________________\n",
            "conv2_block2_2_relu (Activation (None, 56, 56, 64)   0           conv2_block2_2_bn[0][0]          \n",
            "__________________________________________________________________________________________________\n",
            "conv2_block2_3_conv (Conv2D)    (None, 56, 56, 256)  16640       conv2_block2_2_relu[0][0]        \n",
            "__________________________________________________________________________________________________\n",
            "conv2_block2_3_bn (BatchNormali (None, 56, 56, 256)  1024        conv2_block2_3_conv[0][0]        \n",
            "__________________________________________________________________________________________________\n",
            "conv2_block2_add (Add)          (None, 56, 56, 256)  0           conv2_block1_out[0][0]           \n",
            "                                                                 conv2_block2_3_bn[0][0]          \n",
            "__________________________________________________________________________________________________\n",
            "conv2_block2_out (Activation)   (None, 56, 56, 256)  0           conv2_block2_add[0][0]           \n",
            "__________________________________________________________________________________________________\n",
            "conv2_block3_1_conv (Conv2D)    (None, 56, 56, 64)   16448       conv2_block2_out[0][0]           \n",
            "__________________________________________________________________________________________________\n",
            "conv2_block3_1_bn (BatchNormali (None, 56, 56, 64)   256         conv2_block3_1_conv[0][0]        \n",
            "__________________________________________________________________________________________________\n",
            "conv2_block3_1_relu (Activation (None, 56, 56, 64)   0           conv2_block3_1_bn[0][0]          \n",
            "__________________________________________________________________________________________________\n",
            "conv2_block3_2_conv (Conv2D)    (None, 56, 56, 64)   36928       conv2_block3_1_relu[0][0]        \n",
            "__________________________________________________________________________________________________\n",
            "conv2_block3_2_bn (BatchNormali (None, 56, 56, 64)   256         conv2_block3_2_conv[0][0]        \n",
            "__________________________________________________________________________________________________\n",
            "conv2_block3_2_relu (Activation (None, 56, 56, 64)   0           conv2_block3_2_bn[0][0]          \n",
            "__________________________________________________________________________________________________\n",
            "conv2_block3_3_conv (Conv2D)    (None, 56, 56, 256)  16640       conv2_block3_2_relu[0][0]        \n",
            "__________________________________________________________________________________________________\n",
            "conv2_block3_3_bn (BatchNormali (None, 56, 56, 256)  1024        conv2_block3_3_conv[0][0]        \n",
            "__________________________________________________________________________________________________\n",
            "conv2_block3_add (Add)          (None, 56, 56, 256)  0           conv2_block2_out[0][0]           \n",
            "                                                                 conv2_block3_3_bn[0][0]          \n",
            "__________________________________________________________________________________________________\n",
            "conv2_block3_out (Activation)   (None, 56, 56, 256)  0           conv2_block3_add[0][0]           \n",
            "__________________________________________________________________________________________________\n",
            "conv3_block1_1_conv (Conv2D)    (None, 28, 28, 128)  32896       conv2_block3_out[0][0]           \n",
            "__________________________________________________________________________________________________\n",
            "conv3_block1_1_bn (BatchNormali (None, 28, 28, 128)  512         conv3_block1_1_conv[0][0]        \n",
            "__________________________________________________________________________________________________\n",
            "conv3_block1_1_relu (Activation (None, 28, 28, 128)  0           conv3_block1_1_bn[0][0]          \n",
            "__________________________________________________________________________________________________\n",
            "conv3_block1_2_conv (Conv2D)    (None, 28, 28, 128)  147584      conv3_block1_1_relu[0][0]        \n",
            "__________________________________________________________________________________________________\n",
            "conv3_block1_2_bn (BatchNormali (None, 28, 28, 128)  512         conv3_block1_2_conv[0][0]        \n",
            "__________________________________________________________________________________________________\n",
            "conv3_block1_2_relu (Activation (None, 28, 28, 128)  0           conv3_block1_2_bn[0][0]          \n",
            "__________________________________________________________________________________________________\n",
            "conv3_block1_0_conv (Conv2D)    (None, 28, 28, 512)  131584      conv2_block3_out[0][0]           \n",
            "__________________________________________________________________________________________________\n",
            "conv3_block1_3_conv (Conv2D)    (None, 28, 28, 512)  66048       conv3_block1_2_relu[0][0]        \n",
            "__________________________________________________________________________________________________\n",
            "conv3_block1_0_bn (BatchNormali (None, 28, 28, 512)  2048        conv3_block1_0_conv[0][0]        \n",
            "__________________________________________________________________________________________________\n",
            "conv3_block1_3_bn (BatchNormali (None, 28, 28, 512)  2048        conv3_block1_3_conv[0][0]        \n",
            "__________________________________________________________________________________________________\n",
            "conv3_block1_add (Add)          (None, 28, 28, 512)  0           conv3_block1_0_bn[0][0]          \n",
            "                                                                 conv3_block1_3_bn[0][0]          \n",
            "__________________________________________________________________________________________________\n",
            "conv3_block1_out (Activation)   (None, 28, 28, 512)  0           conv3_block1_add[0][0]           \n",
            "__________________________________________________________________________________________________\n",
            "conv3_block2_1_conv (Conv2D)    (None, 28, 28, 128)  65664       conv3_block1_out[0][0]           \n",
            "__________________________________________________________________________________________________\n",
            "conv3_block2_1_bn (BatchNormali (None, 28, 28, 128)  512         conv3_block2_1_conv[0][0]        \n",
            "__________________________________________________________________________________________________\n",
            "conv3_block2_1_relu (Activation (None, 28, 28, 128)  0           conv3_block2_1_bn[0][0]          \n",
            "__________________________________________________________________________________________________\n",
            "conv3_block2_2_conv (Conv2D)    (None, 28, 28, 128)  147584      conv3_block2_1_relu[0][0]        \n",
            "__________________________________________________________________________________________________\n",
            "conv3_block2_2_bn (BatchNormali (None, 28, 28, 128)  512         conv3_block2_2_conv[0][0]        \n",
            "__________________________________________________________________________________________________\n",
            "conv3_block2_2_relu (Activation (None, 28, 28, 128)  0           conv3_block2_2_bn[0][0]          \n",
            "__________________________________________________________________________________________________\n",
            "conv3_block2_3_conv (Conv2D)    (None, 28, 28, 512)  66048       conv3_block2_2_relu[0][0]        \n",
            "__________________________________________________________________________________________________\n",
            "conv3_block2_3_bn (BatchNormali (None, 28, 28, 512)  2048        conv3_block2_3_conv[0][0]        \n",
            "__________________________________________________________________________________________________\n",
            "conv3_block2_add (Add)          (None, 28, 28, 512)  0           conv3_block1_out[0][0]           \n",
            "                                                                 conv3_block2_3_bn[0][0]          \n",
            "__________________________________________________________________________________________________\n",
            "conv3_block2_out (Activation)   (None, 28, 28, 512)  0           conv3_block2_add[0][0]           \n",
            "__________________________________________________________________________________________________\n",
            "conv3_block3_1_conv (Conv2D)    (None, 28, 28, 128)  65664       conv3_block2_out[0][0]           \n",
            "__________________________________________________________________________________________________\n",
            "conv3_block3_1_bn (BatchNormali (None, 28, 28, 128)  512         conv3_block3_1_conv[0][0]        \n",
            "__________________________________________________________________________________________________\n",
            "conv3_block3_1_relu (Activation (None, 28, 28, 128)  0           conv3_block3_1_bn[0][0]          \n",
            "__________________________________________________________________________________________________\n",
            "conv3_block3_2_conv (Conv2D)    (None, 28, 28, 128)  147584      conv3_block3_1_relu[0][0]        \n",
            "__________________________________________________________________________________________________\n",
            "conv3_block3_2_bn (BatchNormali (None, 28, 28, 128)  512         conv3_block3_2_conv[0][0]        \n",
            "__________________________________________________________________________________________________\n",
            "conv3_block3_2_relu (Activation (None, 28, 28, 128)  0           conv3_block3_2_bn[0][0]          \n",
            "__________________________________________________________________________________________________\n",
            "conv3_block3_3_conv (Conv2D)    (None, 28, 28, 512)  66048       conv3_block3_2_relu[0][0]        \n",
            "__________________________________________________________________________________________________\n",
            "conv3_block3_3_bn (BatchNormali (None, 28, 28, 512)  2048        conv3_block3_3_conv[0][0]        \n",
            "__________________________________________________________________________________________________\n",
            "conv3_block3_add (Add)          (None, 28, 28, 512)  0           conv3_block2_out[0][0]           \n",
            "                                                                 conv3_block3_3_bn[0][0]          \n",
            "__________________________________________________________________________________________________\n",
            "conv3_block3_out (Activation)   (None, 28, 28, 512)  0           conv3_block3_add[0][0]           \n",
            "__________________________________________________________________________________________________\n",
            "conv3_block4_1_conv (Conv2D)    (None, 28, 28, 128)  65664       conv3_block3_out[0][0]           \n",
            "__________________________________________________________________________________________________\n",
            "conv3_block4_1_bn (BatchNormali (None, 28, 28, 128)  512         conv3_block4_1_conv[0][0]        \n",
            "__________________________________________________________________________________________________\n",
            "conv3_block4_1_relu (Activation (None, 28, 28, 128)  0           conv3_block4_1_bn[0][0]          \n",
            "__________________________________________________________________________________________________\n",
            "conv3_block4_2_conv (Conv2D)    (None, 28, 28, 128)  147584      conv3_block4_1_relu[0][0]        \n",
            "__________________________________________________________________________________________________\n",
            "conv3_block4_2_bn (BatchNormali (None, 28, 28, 128)  512         conv3_block4_2_conv[0][0]        \n",
            "__________________________________________________________________________________________________\n",
            "conv3_block4_2_relu (Activation (None, 28, 28, 128)  0           conv3_block4_2_bn[0][0]          \n",
            "__________________________________________________________________________________________________\n",
            "conv3_block4_3_conv (Conv2D)    (None, 28, 28, 512)  66048       conv3_block4_2_relu[0][0]        \n",
            "__________________________________________________________________________________________________\n",
            "conv3_block4_3_bn (BatchNormali (None, 28, 28, 512)  2048        conv3_block4_3_conv[0][0]        \n",
            "__________________________________________________________________________________________________\n",
            "conv3_block4_add (Add)          (None, 28, 28, 512)  0           conv3_block3_out[0][0]           \n",
            "                                                                 conv3_block4_3_bn[0][0]          \n",
            "__________________________________________________________________________________________________\n",
            "conv3_block4_out (Activation)   (None, 28, 28, 512)  0           conv3_block4_add[0][0]           \n",
            "__________________________________________________________________________________________________\n",
            "conv4_block1_1_conv (Conv2D)    (None, 14, 14, 256)  131328      conv3_block4_out[0][0]           \n",
            "__________________________________________________________________________________________________\n",
            "conv4_block1_1_bn (BatchNormali (None, 14, 14, 256)  1024        conv4_block1_1_conv[0][0]        \n",
            "__________________________________________________________________________________________________\n",
            "conv4_block1_1_relu (Activation (None, 14, 14, 256)  0           conv4_block1_1_bn[0][0]          \n",
            "__________________________________________________________________________________________________\n",
            "conv4_block1_2_conv (Conv2D)    (None, 14, 14, 256)  590080      conv4_block1_1_relu[0][0]        \n",
            "__________________________________________________________________________________________________\n",
            "conv4_block1_2_bn (BatchNormali (None, 14, 14, 256)  1024        conv4_block1_2_conv[0][0]        \n",
            "__________________________________________________________________________________________________\n",
            "conv4_block1_2_relu (Activation (None, 14, 14, 256)  0           conv4_block1_2_bn[0][0]          \n",
            "__________________________________________________________________________________________________\n",
            "conv4_block1_0_conv (Conv2D)    (None, 14, 14, 1024) 525312      conv3_block4_out[0][0]           \n",
            "__________________________________________________________________________________________________\n",
            "conv4_block1_3_conv (Conv2D)    (None, 14, 14, 1024) 263168      conv4_block1_2_relu[0][0]        \n",
            "__________________________________________________________________________________________________\n",
            "conv4_block1_0_bn (BatchNormali (None, 14, 14, 1024) 4096        conv4_block1_0_conv[0][0]        \n",
            "__________________________________________________________________________________________________\n",
            "conv4_block1_3_bn (BatchNormali (None, 14, 14, 1024) 4096        conv4_block1_3_conv[0][0]        \n",
            "__________________________________________________________________________________________________\n",
            "conv4_block1_add (Add)          (None, 14, 14, 1024) 0           conv4_block1_0_bn[0][0]          \n",
            "                                                                 conv4_block1_3_bn[0][0]          \n",
            "__________________________________________________________________________________________________\n",
            "conv4_block1_out (Activation)   (None, 14, 14, 1024) 0           conv4_block1_add[0][0]           \n",
            "__________________________________________________________________________________________________\n",
            "conv4_block2_1_conv (Conv2D)    (None, 14, 14, 256)  262400      conv4_block1_out[0][0]           \n",
            "__________________________________________________________________________________________________\n",
            "conv4_block2_1_bn (BatchNormali (None, 14, 14, 256)  1024        conv4_block2_1_conv[0][0]        \n",
            "__________________________________________________________________________________________________\n",
            "conv4_block2_1_relu (Activation (None, 14, 14, 256)  0           conv4_block2_1_bn[0][0]          \n",
            "__________________________________________________________________________________________________\n",
            "conv4_block2_2_conv (Conv2D)    (None, 14, 14, 256)  590080      conv4_block2_1_relu[0][0]        \n",
            "__________________________________________________________________________________________________\n",
            "conv4_block2_2_bn (BatchNormali (None, 14, 14, 256)  1024        conv4_block2_2_conv[0][0]        \n",
            "__________________________________________________________________________________________________\n",
            "conv4_block2_2_relu (Activation (None, 14, 14, 256)  0           conv4_block2_2_bn[0][0]          \n",
            "__________________________________________________________________________________________________\n",
            "conv4_block2_3_conv (Conv2D)    (None, 14, 14, 1024) 263168      conv4_block2_2_relu[0][0]        \n",
            "__________________________________________________________________________________________________\n",
            "conv4_block2_3_bn (BatchNormali (None, 14, 14, 1024) 4096        conv4_block2_3_conv[0][0]        \n",
            "__________________________________________________________________________________________________\n",
            "conv4_block2_add (Add)          (None, 14, 14, 1024) 0           conv4_block1_out[0][0]           \n",
            "                                                                 conv4_block2_3_bn[0][0]          \n",
            "__________________________________________________________________________________________________\n",
            "conv4_block2_out (Activation)   (None, 14, 14, 1024) 0           conv4_block2_add[0][0]           \n",
            "__________________________________________________________________________________________________\n",
            "conv4_block3_1_conv (Conv2D)    (None, 14, 14, 256)  262400      conv4_block2_out[0][0]           \n",
            "__________________________________________________________________________________________________\n",
            "conv4_block3_1_bn (BatchNormali (None, 14, 14, 256)  1024        conv4_block3_1_conv[0][0]        \n",
            "__________________________________________________________________________________________________\n",
            "conv4_block3_1_relu (Activation (None, 14, 14, 256)  0           conv4_block3_1_bn[0][0]          \n",
            "__________________________________________________________________________________________________\n",
            "conv4_block3_2_conv (Conv2D)    (None, 14, 14, 256)  590080      conv4_block3_1_relu[0][0]        \n",
            "__________________________________________________________________________________________________\n",
            "conv4_block3_2_bn (BatchNormali (None, 14, 14, 256)  1024        conv4_block3_2_conv[0][0]        \n",
            "__________________________________________________________________________________________________\n",
            "conv4_block3_2_relu (Activation (None, 14, 14, 256)  0           conv4_block3_2_bn[0][0]          \n",
            "__________________________________________________________________________________________________\n",
            "conv4_block3_3_conv (Conv2D)    (None, 14, 14, 1024) 263168      conv4_block3_2_relu[0][0]        \n",
            "__________________________________________________________________________________________________\n",
            "conv4_block3_3_bn (BatchNormali (None, 14, 14, 1024) 4096        conv4_block3_3_conv[0][0]        \n",
            "__________________________________________________________________________________________________\n",
            "conv4_block3_add (Add)          (None, 14, 14, 1024) 0           conv4_block2_out[0][0]           \n",
            "                                                                 conv4_block3_3_bn[0][0]          \n",
            "__________________________________________________________________________________________________\n",
            "conv4_block3_out (Activation)   (None, 14, 14, 1024) 0           conv4_block3_add[0][0]           \n",
            "__________________________________________________________________________________________________\n",
            "conv4_block4_1_conv (Conv2D)    (None, 14, 14, 256)  262400      conv4_block3_out[0][0]           \n",
            "__________________________________________________________________________________________________\n",
            "conv4_block4_1_bn (BatchNormali (None, 14, 14, 256)  1024        conv4_block4_1_conv[0][0]        \n",
            "__________________________________________________________________________________________________\n",
            "conv4_block4_1_relu (Activation (None, 14, 14, 256)  0           conv4_block4_1_bn[0][0]          \n",
            "__________________________________________________________________________________________________\n",
            "conv4_block4_2_conv (Conv2D)    (None, 14, 14, 256)  590080      conv4_block4_1_relu[0][0]        \n",
            "__________________________________________________________________________________________________\n",
            "conv4_block4_2_bn (BatchNormali (None, 14, 14, 256)  1024        conv4_block4_2_conv[0][0]        \n",
            "__________________________________________________________________________________________________\n",
            "conv4_block4_2_relu (Activation (None, 14, 14, 256)  0           conv4_block4_2_bn[0][0]          \n",
            "__________________________________________________________________________________________________\n",
            "conv4_block4_3_conv (Conv2D)    (None, 14, 14, 1024) 263168      conv4_block4_2_relu[0][0]        \n",
            "__________________________________________________________________________________________________\n",
            "conv4_block4_3_bn (BatchNormali (None, 14, 14, 1024) 4096        conv4_block4_3_conv[0][0]        \n",
            "__________________________________________________________________________________________________\n",
            "conv4_block4_add (Add)          (None, 14, 14, 1024) 0           conv4_block3_out[0][0]           \n",
            "                                                                 conv4_block4_3_bn[0][0]          \n",
            "__________________________________________________________________________________________________\n",
            "conv4_block4_out (Activation)   (None, 14, 14, 1024) 0           conv4_block4_add[0][0]           \n",
            "__________________________________________________________________________________________________\n",
            "conv4_block5_1_conv (Conv2D)    (None, 14, 14, 256)  262400      conv4_block4_out[0][0]           \n",
            "__________________________________________________________________________________________________\n",
            "conv4_block5_1_bn (BatchNormali (None, 14, 14, 256)  1024        conv4_block5_1_conv[0][0]        \n",
            "__________________________________________________________________________________________________\n",
            "conv4_block5_1_relu (Activation (None, 14, 14, 256)  0           conv4_block5_1_bn[0][0]          \n",
            "__________________________________________________________________________________________________\n",
            "conv4_block5_2_conv (Conv2D)    (None, 14, 14, 256)  590080      conv4_block5_1_relu[0][0]        \n",
            "__________________________________________________________________________________________________\n",
            "conv4_block5_2_bn (BatchNormali (None, 14, 14, 256)  1024        conv4_block5_2_conv[0][0]        \n",
            "__________________________________________________________________________________________________\n",
            "conv4_block5_2_relu (Activation (None, 14, 14, 256)  0           conv4_block5_2_bn[0][0]          \n",
            "__________________________________________________________________________________________________\n",
            "conv4_block5_3_conv (Conv2D)    (None, 14, 14, 1024) 263168      conv4_block5_2_relu[0][0]        \n",
            "__________________________________________________________________________________________________\n",
            "conv4_block5_3_bn (BatchNormali (None, 14, 14, 1024) 4096        conv4_block5_3_conv[0][0]        \n",
            "__________________________________________________________________________________________________\n",
            "conv4_block5_add (Add)          (None, 14, 14, 1024) 0           conv4_block4_out[0][0]           \n",
            "                                                                 conv4_block5_3_bn[0][0]          \n",
            "__________________________________________________________________________________________________\n",
            "conv4_block5_out (Activation)   (None, 14, 14, 1024) 0           conv4_block5_add[0][0]           \n",
            "__________________________________________________________________________________________________\n",
            "conv4_block6_1_conv (Conv2D)    (None, 14, 14, 256)  262400      conv4_block5_out[0][0]           \n",
            "__________________________________________________________________________________________________\n",
            "conv4_block6_1_bn (BatchNormali (None, 14, 14, 256)  1024        conv4_block6_1_conv[0][0]        \n",
            "__________________________________________________________________________________________________\n",
            "conv4_block6_1_relu (Activation (None, 14, 14, 256)  0           conv4_block6_1_bn[0][0]          \n",
            "__________________________________________________________________________________________________\n",
            "conv4_block6_2_conv (Conv2D)    (None, 14, 14, 256)  590080      conv4_block6_1_relu[0][0]        \n",
            "__________________________________________________________________________________________________\n",
            "conv4_block6_2_bn (BatchNormali (None, 14, 14, 256)  1024        conv4_block6_2_conv[0][0]        \n",
            "__________________________________________________________________________________________________\n",
            "conv4_block6_2_relu (Activation (None, 14, 14, 256)  0           conv4_block6_2_bn[0][0]          \n",
            "__________________________________________________________________________________________________\n",
            "conv4_block6_3_conv (Conv2D)    (None, 14, 14, 1024) 263168      conv4_block6_2_relu[0][0]        \n",
            "__________________________________________________________________________________________________\n",
            "conv4_block6_3_bn (BatchNormali (None, 14, 14, 1024) 4096        conv4_block6_3_conv[0][0]        \n",
            "__________________________________________________________________________________________________\n",
            "conv4_block6_add (Add)          (None, 14, 14, 1024) 0           conv4_block5_out[0][0]           \n",
            "                                                                 conv4_block6_3_bn[0][0]          \n",
            "__________________________________________________________________________________________________\n",
            "conv4_block6_out (Activation)   (None, 14, 14, 1024) 0           conv4_block6_add[0][0]           \n",
            "__________________________________________________________________________________________________\n",
            "conv5_block1_1_conv (Conv2D)    (None, 7, 7, 512)    524800      conv4_block6_out[0][0]           \n",
            "__________________________________________________________________________________________________\n",
            "conv5_block1_1_bn (BatchNormali (None, 7, 7, 512)    2048        conv5_block1_1_conv[0][0]        \n",
            "__________________________________________________________________________________________________\n",
            "conv5_block1_1_relu (Activation (None, 7, 7, 512)    0           conv5_block1_1_bn[0][0]          \n",
            "__________________________________________________________________________________________________\n",
            "conv5_block1_2_conv (Conv2D)    (None, 7, 7, 512)    2359808     conv5_block1_1_relu[0][0]        \n",
            "__________________________________________________________________________________________________\n",
            "conv5_block1_2_bn (BatchNormali (None, 7, 7, 512)    2048        conv5_block1_2_conv[0][0]        \n",
            "__________________________________________________________________________________________________\n",
            "conv5_block1_2_relu (Activation (None, 7, 7, 512)    0           conv5_block1_2_bn[0][0]          \n",
            "__________________________________________________________________________________________________\n",
            "conv5_block1_0_conv (Conv2D)    (None, 7, 7, 2048)   2099200     conv4_block6_out[0][0]           \n",
            "__________________________________________________________________________________________________\n",
            "conv5_block1_3_conv (Conv2D)    (None, 7, 7, 2048)   1050624     conv5_block1_2_relu[0][0]        \n",
            "__________________________________________________________________________________________________\n",
            "conv5_block1_0_bn (BatchNormali (None, 7, 7, 2048)   8192        conv5_block1_0_conv[0][0]        \n",
            "__________________________________________________________________________________________________\n",
            "conv5_block1_3_bn (BatchNormali (None, 7, 7, 2048)   8192        conv5_block1_3_conv[0][0]        \n",
            "__________________________________________________________________________________________________\n",
            "conv5_block1_add (Add)          (None, 7, 7, 2048)   0           conv5_block1_0_bn[0][0]          \n",
            "                                                                 conv5_block1_3_bn[0][0]          \n",
            "__________________________________________________________________________________________________\n",
            "conv5_block1_out (Activation)   (None, 7, 7, 2048)   0           conv5_block1_add[0][0]           \n",
            "__________________________________________________________________________________________________\n",
            "conv5_block2_1_conv (Conv2D)    (None, 7, 7, 512)    1049088     conv5_block1_out[0][0]           \n",
            "__________________________________________________________________________________________________\n",
            "conv5_block2_1_bn (BatchNormali (None, 7, 7, 512)    2048        conv5_block2_1_conv[0][0]        \n",
            "__________________________________________________________________________________________________\n",
            "conv5_block2_1_relu (Activation (None, 7, 7, 512)    0           conv5_block2_1_bn[0][0]          \n",
            "__________________________________________________________________________________________________\n",
            "conv5_block2_2_conv (Conv2D)    (None, 7, 7, 512)    2359808     conv5_block2_1_relu[0][0]        \n",
            "__________________________________________________________________________________________________\n",
            "conv5_block2_2_bn (BatchNormali (None, 7, 7, 512)    2048        conv5_block2_2_conv[0][0]        \n",
            "__________________________________________________________________________________________________\n",
            "conv5_block2_2_relu (Activation (None, 7, 7, 512)    0           conv5_block2_2_bn[0][0]          \n",
            "__________________________________________________________________________________________________\n",
            "conv5_block2_3_conv (Conv2D)    (None, 7, 7, 2048)   1050624     conv5_block2_2_relu[0][0]        \n",
            "__________________________________________________________________________________________________\n",
            "conv5_block2_3_bn (BatchNormali (None, 7, 7, 2048)   8192        conv5_block2_3_conv[0][0]        \n",
            "__________________________________________________________________________________________________\n",
            "conv5_block2_add (Add)          (None, 7, 7, 2048)   0           conv5_block1_out[0][0]           \n",
            "                                                                 conv5_block2_3_bn[0][0]          \n",
            "__________________________________________________________________________________________________\n",
            "conv5_block2_out (Activation)   (None, 7, 7, 2048)   0           conv5_block2_add[0][0]           \n",
            "__________________________________________________________________________________________________\n",
            "conv5_block3_1_conv (Conv2D)    (None, 7, 7, 512)    1049088     conv5_block2_out[0][0]           \n",
            "__________________________________________________________________________________________________\n",
            "conv5_block3_1_bn (BatchNormali (None, 7, 7, 512)    2048        conv5_block3_1_conv[0][0]        \n",
            "__________________________________________________________________________________________________\n",
            "conv5_block3_1_relu (Activation (None, 7, 7, 512)    0           conv5_block3_1_bn[0][0]          \n",
            "__________________________________________________________________________________________________\n",
            "conv5_block3_2_conv (Conv2D)    (None, 7, 7, 512)    2359808     conv5_block3_1_relu[0][0]        \n",
            "__________________________________________________________________________________________________\n",
            "conv5_block3_2_bn (BatchNormali (None, 7, 7, 512)    2048        conv5_block3_2_conv[0][0]        \n",
            "__________________________________________________________________________________________________\n",
            "conv5_block3_2_relu (Activation (None, 7, 7, 512)    0           conv5_block3_2_bn[0][0]          \n",
            "__________________________________________________________________________________________________\n",
            "conv5_block3_3_conv (Conv2D)    (None, 7, 7, 2048)   1050624     conv5_block3_2_relu[0][0]        \n",
            "__________________________________________________________________________________________________\n",
            "conv5_block3_3_bn (BatchNormali (None, 7, 7, 2048)   8192        conv5_block3_3_conv[0][0]        \n",
            "__________________________________________________________________________________________________\n",
            "conv5_block3_add (Add)          (None, 7, 7, 2048)   0           conv5_block2_out[0][0]           \n",
            "                                                                 conv5_block3_3_bn[0][0]          \n",
            "__________________________________________________________________________________________________\n",
            "conv5_block3_out (Activation)   (None, 7, 7, 2048)   0           conv5_block3_add[0][0]           \n",
            "==================================================================================================\n",
            "Total params: 23,587,712\n",
            "Trainable params: 23,534,592\n",
            "Non-trainable params: 53,120\n",
            "__________________________________________________________________________________________________\n"
          ],
          "name": "stdout"
        }
      ]
    },
    {
      "cell_type": "markdown",
      "metadata": {
        "id": "_TV3tctZNjQL",
        "colab_type": "text"
      },
      "source": [
        "# **Adding Fully Connected Layer on the top of pre-trained ResNet50 base layer**"
      ]
    },
    {
      "cell_type": "code",
      "metadata": {
        "id": "5lX9PyT8_Vwa",
        "colab_type": "code",
        "outputId": "c013ffdb-d24b-462c-854f-95a56906010e",
        "colab": {
          "base_uri": "https://localhost:8080/",
          "height": 317
        }
      },
      "source": [
        "model = models.Sequential()\n",
        "model.add(resnet_base)\n",
        "model.add(layers.Flatten())\n",
        "model.add(layers.Dropout(0.4))\n",
        "model.add(layers.Dense(2048, activation='relu'))\n",
        "model.add(layers.Dense(4, activation = 'softmax'))\n",
        "model.summary()"
      ],
      "execution_count": 12,
      "outputs": [
        {
          "output_type": "stream",
          "text": [
            "Model: \"sequential\"\n",
            "_________________________________________________________________\n",
            "Layer (type)                 Output Shape              Param #   \n",
            "=================================================================\n",
            "resnet50 (Model)             (None, 7, 7, 2048)        23587712  \n",
            "_________________________________________________________________\n",
            "flatten (Flatten)            (None, 100352)            0         \n",
            "_________________________________________________________________\n",
            "dropout (Dropout)            (None, 100352)            0         \n",
            "_________________________________________________________________\n",
            "dense (Dense)                (None, 2048)              205522944 \n",
            "_________________________________________________________________\n",
            "dense_1 (Dense)              (None, 4)                 8196      \n",
            "=================================================================\n",
            "Total params: 229,118,852\n",
            "Trainable params: 229,065,732\n",
            "Non-trainable params: 53,120\n",
            "_________________________________________________________________\n"
          ],
          "name": "stdout"
        }
      ]
    },
    {
      "cell_type": "markdown",
      "metadata": {
        "id": "8qx2_p_fNvi7",
        "colab_type": "text"
      },
      "source": [
        "# **Freezing the pre-trained ResNet50 base**"
      ]
    },
    {
      "cell_type": "code",
      "metadata": {
        "id": "KJ9aLmBxDKX4",
        "colab_type": "code",
        "colab": {}
      },
      "source": [
        "for layer in resnet_base.layers[:]:\n",
        "  layer.trainable = False"
      ],
      "execution_count": 0,
      "outputs": []
    },
    {
      "cell_type": "markdown",
      "metadata": {
        "id": "nMdVEcc_N3Mw",
        "colab_type": "text"
      },
      "source": [
        "Display the architecture of the full CNN model"
      ]
    },
    {
      "cell_type": "code",
      "metadata": {
        "id": "Q0h-nNf9JnMt",
        "colab_type": "code",
        "outputId": "1c484ef6-ab2b-465a-f821-2d766155f2c6",
        "colab": {
          "base_uri": "https://localhost:8080/",
          "height": 317
        }
      },
      "source": [
        "model.summary()"
      ],
      "execution_count": 14,
      "outputs": [
        {
          "output_type": "stream",
          "text": [
            "Model: \"sequential\"\n",
            "_________________________________________________________________\n",
            "Layer (type)                 Output Shape              Param #   \n",
            "=================================================================\n",
            "resnet50 (Model)             (None, 7, 7, 2048)        23587712  \n",
            "_________________________________________________________________\n",
            "flatten (Flatten)            (None, 100352)            0         \n",
            "_________________________________________________________________\n",
            "dropout (Dropout)            (None, 100352)            0         \n",
            "_________________________________________________________________\n",
            "dense (Dense)                (None, 2048)              205522944 \n",
            "_________________________________________________________________\n",
            "dense_1 (Dense)              (None, 4)                 8196      \n",
            "=================================================================\n",
            "Total params: 229,118,852\n",
            "Trainable params: 205,531,140\n",
            "Non-trainable params: 23,587,712\n",
            "_________________________________________________________________\n"
          ],
          "name": "stdout"
        }
      ]
    },
    {
      "cell_type": "markdown",
      "metadata": {
        "id": "IO0ETCDYOFAx",
        "colab_type": "text"
      },
      "source": [
        "Specifying the learning rate"
      ]
    },
    {
      "cell_type": "code",
      "metadata": {
        "id": "EUHN3OD1DaTc",
        "colab_type": "code",
        "colab": {}
      },
      "source": [
        "learning_rate = 1e-4"
      ],
      "execution_count": 0,
      "outputs": []
    },
    {
      "cell_type": "markdown",
      "metadata": {
        "id": "QIkkU6gqOJbP",
        "colab_type": "text"
      },
      "source": [
        "Compile the CNN model"
      ]
    },
    {
      "cell_type": "code",
      "metadata": {
        "id": "UGb8gC1rEEu0",
        "colab_type": "code",
        "colab": {}
      },
      "source": [
        "model.compile(optimizer=optimizers.RMSprop(lr=learning_rate), loss='categorical_crossentropy', metrics=['accuracy'])"
      ],
      "execution_count": 0,
      "outputs": []
    },
    {
      "cell_type": "code",
      "metadata": {
        "id": "Sr-V9C5_KAYU",
        "colab_type": "code",
        "colab": {}
      },
      "source": [
        "training_dir = '/tmp/train/'\n",
        "testing_dir = '/tmp/test/'\n",
        "validation_dir = '/tmp/validation/'"
      ],
      "execution_count": 0,
      "outputs": []
    },
    {
      "cell_type": "markdown",
      "metadata": {
        "id": "F0wAt55ySYZc",
        "colab_type": "text"
      },
      "source": [
        "Specifying the callbacks"
      ]
    },
    {
      "cell_type": "code",
      "metadata": {
        "id": "Tl5wDpYEhvrn",
        "colab_type": "code",
        "colab": {}
      },
      "source": [
        "callbacks_list = [callbacks.ModelCheckpoint(\n",
        "        filepath = 'resnet-finetune-model.h5',\n",
        "        monitor = 'val_loss',\n",
        "        save_best_only = True),\n",
        "        callbacks.ReduceLROnPlateau(\n",
        "            monitor='val_loss',\n",
        "            factor=0.1,\n",
        "            patience=5,\n",
        "            mode='min',\n",
        "            min_lr=1e-8),\n",
        "        callbacks.CSVLogger(\n",
        "            filename='resnet-finetune-model.csv',\n",
        "            separator = ',',\n",
        "            append = False)]"
      ],
      "execution_count": 0,
      "outputs": []
    },
    {
      "cell_type": "markdown",
      "metadata": {
        "id": "3nWCrUZaOPUH",
        "colab_type": "text"
      },
      "source": [
        "# **Training the fully connected layer only (ResNet50 base is frozen)**"
      ]
    },
    {
      "cell_type": "code",
      "metadata": {
        "id": "YGI-PFJNEQgG",
        "colab_type": "code",
        "outputId": "6b684e3d-a94c-43ed-e2d2-8a110c49237b",
        "colab": {
          "base_uri": "https://localhost:8080/",
          "height": 203
        }
      },
      "source": [
        "batch_size = 32\n",
        "history = model.fit(train_data,\n",
        "                             steps_per_epoch=4000//batch_size,\n",
        "                             epochs=5,\n",
        "                             validation_data=valid_data,\n",
        "                             validation_steps=2217//batch_size,\n",
        "                             callbacks=callbacks_list)"
      ],
      "execution_count": 19,
      "outputs": [
        {
          "output_type": "stream",
          "text": [
            "Epoch 1/5\n",
            "125/125 [==============================] - 45s 364ms/step - loss: 3.3539 - accuracy: 0.3030 - val_loss: 2.1746 - val_accuracy: 0.2794 - lr: 1.0000e-04\n",
            "Epoch 2/5\n",
            "125/125 [==============================] - 34s 273ms/step - loss: 1.9500 - accuracy: 0.3288 - val_loss: 2.6390 - val_accuracy: 0.3383 - lr: 1.0000e-04\n",
            "Epoch 3/5\n",
            "125/125 [==============================] - 50s 397ms/step - loss: 1.7920 - accuracy: 0.3495 - val_loss: 1.7001 - val_accuracy: 0.3736 - lr: 1.0000e-04\n",
            "Epoch 4/5\n",
            "125/125 [==============================] - 47s 379ms/step - loss: 1.6570 - accuracy: 0.3587 - val_loss: 1.4746 - val_accuracy: 0.4393 - lr: 1.0000e-04\n",
            "Epoch 5/5\n",
            "125/125 [==============================] - 34s 269ms/step - loss: 1.5839 - accuracy: 0.3672 - val_loss: 2.1099 - val_accuracy: 0.3741 - lr: 1.0000e-04\n"
          ],
          "name": "stdout"
        }
      ]
    },
    {
      "cell_type": "markdown",
      "metadata": {
        "id": "Fba4BnnkOkdh",
        "colab_type": "text"
      },
      "source": [
        "# **Unfreezing the ResNet5c block**"
      ]
    },
    {
      "cell_type": "code",
      "metadata": {
        "id": "Tth6Dr2eH11f",
        "colab_type": "code",
        "outputId": "a13fb1e1-29ad-4bcb-8778-aaaaa63456f8",
        "colab": {
          "base_uri": "https://localhost:8080/",
          "height": 1000
        }
      },
      "source": [
        "#resnet_base.trainable = True\n",
        "for layer in resnet_base.layers[:165]:\n",
        "  layer.trainable = False\n",
        "for layer in resnet_base.layers[165:]:\n",
        "  layer.trainable = True\n",
        "\n",
        "for i, layer in enumerate(resnet_base.layers):\n",
        "  print(i, layer.name, layer.trainable)"
      ],
      "execution_count": 20,
      "outputs": [
        {
          "output_type": "stream",
          "text": [
            "0 input_1 False\n",
            "1 conv1_pad False\n",
            "2 conv1_conv False\n",
            "3 conv1_bn False\n",
            "4 conv1_relu False\n",
            "5 pool1_pad False\n",
            "6 pool1_pool False\n",
            "7 conv2_block1_1_conv False\n",
            "8 conv2_block1_1_bn False\n",
            "9 conv2_block1_1_relu False\n",
            "10 conv2_block1_2_conv False\n",
            "11 conv2_block1_2_bn False\n",
            "12 conv2_block1_2_relu False\n",
            "13 conv2_block1_0_conv False\n",
            "14 conv2_block1_3_conv False\n",
            "15 conv2_block1_0_bn False\n",
            "16 conv2_block1_3_bn False\n",
            "17 conv2_block1_add False\n",
            "18 conv2_block1_out False\n",
            "19 conv2_block2_1_conv False\n",
            "20 conv2_block2_1_bn False\n",
            "21 conv2_block2_1_relu False\n",
            "22 conv2_block2_2_conv False\n",
            "23 conv2_block2_2_bn False\n",
            "24 conv2_block2_2_relu False\n",
            "25 conv2_block2_3_conv False\n",
            "26 conv2_block2_3_bn False\n",
            "27 conv2_block2_add False\n",
            "28 conv2_block2_out False\n",
            "29 conv2_block3_1_conv False\n",
            "30 conv2_block3_1_bn False\n",
            "31 conv2_block3_1_relu False\n",
            "32 conv2_block3_2_conv False\n",
            "33 conv2_block3_2_bn False\n",
            "34 conv2_block3_2_relu False\n",
            "35 conv2_block3_3_conv False\n",
            "36 conv2_block3_3_bn False\n",
            "37 conv2_block3_add False\n",
            "38 conv2_block3_out False\n",
            "39 conv3_block1_1_conv False\n",
            "40 conv3_block1_1_bn False\n",
            "41 conv3_block1_1_relu False\n",
            "42 conv3_block1_2_conv False\n",
            "43 conv3_block1_2_bn False\n",
            "44 conv3_block1_2_relu False\n",
            "45 conv3_block1_0_conv False\n",
            "46 conv3_block1_3_conv False\n",
            "47 conv3_block1_0_bn False\n",
            "48 conv3_block1_3_bn False\n",
            "49 conv3_block1_add False\n",
            "50 conv3_block1_out False\n",
            "51 conv3_block2_1_conv False\n",
            "52 conv3_block2_1_bn False\n",
            "53 conv3_block2_1_relu False\n",
            "54 conv3_block2_2_conv False\n",
            "55 conv3_block2_2_bn False\n",
            "56 conv3_block2_2_relu False\n",
            "57 conv3_block2_3_conv False\n",
            "58 conv3_block2_3_bn False\n",
            "59 conv3_block2_add False\n",
            "60 conv3_block2_out False\n",
            "61 conv3_block3_1_conv False\n",
            "62 conv3_block3_1_bn False\n",
            "63 conv3_block3_1_relu False\n",
            "64 conv3_block3_2_conv False\n",
            "65 conv3_block3_2_bn False\n",
            "66 conv3_block3_2_relu False\n",
            "67 conv3_block3_3_conv False\n",
            "68 conv3_block3_3_bn False\n",
            "69 conv3_block3_add False\n",
            "70 conv3_block3_out False\n",
            "71 conv3_block4_1_conv False\n",
            "72 conv3_block4_1_bn False\n",
            "73 conv3_block4_1_relu False\n",
            "74 conv3_block4_2_conv False\n",
            "75 conv3_block4_2_bn False\n",
            "76 conv3_block4_2_relu False\n",
            "77 conv3_block4_3_conv False\n",
            "78 conv3_block4_3_bn False\n",
            "79 conv3_block4_add False\n",
            "80 conv3_block4_out False\n",
            "81 conv4_block1_1_conv False\n",
            "82 conv4_block1_1_bn False\n",
            "83 conv4_block1_1_relu False\n",
            "84 conv4_block1_2_conv False\n",
            "85 conv4_block1_2_bn False\n",
            "86 conv4_block1_2_relu False\n",
            "87 conv4_block1_0_conv False\n",
            "88 conv4_block1_3_conv False\n",
            "89 conv4_block1_0_bn False\n",
            "90 conv4_block1_3_bn False\n",
            "91 conv4_block1_add False\n",
            "92 conv4_block1_out False\n",
            "93 conv4_block2_1_conv False\n",
            "94 conv4_block2_1_bn False\n",
            "95 conv4_block2_1_relu False\n",
            "96 conv4_block2_2_conv False\n",
            "97 conv4_block2_2_bn False\n",
            "98 conv4_block2_2_relu False\n",
            "99 conv4_block2_3_conv False\n",
            "100 conv4_block2_3_bn False\n",
            "101 conv4_block2_add False\n",
            "102 conv4_block2_out False\n",
            "103 conv4_block3_1_conv False\n",
            "104 conv4_block3_1_bn False\n",
            "105 conv4_block3_1_relu False\n",
            "106 conv4_block3_2_conv False\n",
            "107 conv4_block3_2_bn False\n",
            "108 conv4_block3_2_relu False\n",
            "109 conv4_block3_3_conv False\n",
            "110 conv4_block3_3_bn False\n",
            "111 conv4_block3_add False\n",
            "112 conv4_block3_out False\n",
            "113 conv4_block4_1_conv False\n",
            "114 conv4_block4_1_bn False\n",
            "115 conv4_block4_1_relu False\n",
            "116 conv4_block4_2_conv False\n",
            "117 conv4_block4_2_bn False\n",
            "118 conv4_block4_2_relu False\n",
            "119 conv4_block4_3_conv False\n",
            "120 conv4_block4_3_bn False\n",
            "121 conv4_block4_add False\n",
            "122 conv4_block4_out False\n",
            "123 conv4_block5_1_conv False\n",
            "124 conv4_block5_1_bn False\n",
            "125 conv4_block5_1_relu False\n",
            "126 conv4_block5_2_conv False\n",
            "127 conv4_block5_2_bn False\n",
            "128 conv4_block5_2_relu False\n",
            "129 conv4_block5_3_conv False\n",
            "130 conv4_block5_3_bn False\n",
            "131 conv4_block5_add False\n",
            "132 conv4_block5_out False\n",
            "133 conv4_block6_1_conv False\n",
            "134 conv4_block6_1_bn False\n",
            "135 conv4_block6_1_relu False\n",
            "136 conv4_block6_2_conv False\n",
            "137 conv4_block6_2_bn False\n",
            "138 conv4_block6_2_relu False\n",
            "139 conv4_block6_3_conv False\n",
            "140 conv4_block6_3_bn False\n",
            "141 conv4_block6_add False\n",
            "142 conv4_block6_out False\n",
            "143 conv5_block1_1_conv False\n",
            "144 conv5_block1_1_bn False\n",
            "145 conv5_block1_1_relu False\n",
            "146 conv5_block1_2_conv False\n",
            "147 conv5_block1_2_bn False\n",
            "148 conv5_block1_2_relu False\n",
            "149 conv5_block1_0_conv False\n",
            "150 conv5_block1_3_conv False\n",
            "151 conv5_block1_0_bn False\n",
            "152 conv5_block1_3_bn False\n",
            "153 conv5_block1_add False\n",
            "154 conv5_block1_out False\n",
            "155 conv5_block2_1_conv False\n",
            "156 conv5_block2_1_bn False\n",
            "157 conv5_block2_1_relu False\n",
            "158 conv5_block2_2_conv False\n",
            "159 conv5_block2_2_bn False\n",
            "160 conv5_block2_2_relu False\n",
            "161 conv5_block2_3_conv False\n",
            "162 conv5_block2_3_bn False\n",
            "163 conv5_block2_add False\n",
            "164 conv5_block2_out False\n",
            "165 conv5_block3_1_conv True\n",
            "166 conv5_block3_1_bn True\n",
            "167 conv5_block3_1_relu True\n",
            "168 conv5_block3_2_conv True\n",
            "169 conv5_block3_2_bn True\n",
            "170 conv5_block3_2_relu True\n",
            "171 conv5_block3_3_conv True\n",
            "172 conv5_block3_3_bn True\n",
            "173 conv5_block3_add True\n",
            "174 conv5_block3_out True\n"
          ],
          "name": "stdout"
        }
      ]
    },
    {
      "cell_type": "markdown",
      "metadata": {
        "id": "u_5MGC2RO1g_",
        "colab_type": "text"
      },
      "source": [
        "# **Compile the final CNN model with fully connected layer and the ResNet50 base after unfreezing the ResNet5c block**"
      ]
    },
    {
      "cell_type": "code",
      "metadata": {
        "id": "MZCsIBnzPXGy",
        "colab_type": "code",
        "outputId": "2d1e7f33-73ef-4784-8816-eb33f64bcf08",
        "colab": {
          "base_uri": "https://localhost:8080/",
          "height": 317
        }
      },
      "source": [
        "model.compile(optimizer=optimizers.RMSprop(lr=learning_rate),\n",
        "              loss='categorical_crossentropy',\n",
        "             metrics=['accuracy'])\n",
        "model.summary()"
      ],
      "execution_count": 21,
      "outputs": [
        {
          "output_type": "stream",
          "text": [
            "Model: \"sequential\"\n",
            "_________________________________________________________________\n",
            "Layer (type)                 Output Shape              Param #   \n",
            "=================================================================\n",
            "resnet50 (Model)             (None, 7, 7, 2048)        23587712  \n",
            "_________________________________________________________________\n",
            "flatten (Flatten)            (None, 100352)            0         \n",
            "_________________________________________________________________\n",
            "dropout (Dropout)            (None, 100352)            0         \n",
            "_________________________________________________________________\n",
            "dense (Dense)                (None, 2048)              205522944 \n",
            "_________________________________________________________________\n",
            "dense_1 (Dense)              (None, 4)                 8196      \n",
            "=================================================================\n",
            "Total params: 229,118,852\n",
            "Trainable params: 209,996,804\n",
            "Non-trainable params: 19,122,048\n",
            "_________________________________________________________________\n"
          ],
          "name": "stdout"
        }
      ]
    },
    {
      "cell_type": "markdown",
      "metadata": {
        "id": "R2wg7IUbPIba",
        "colab_type": "text"
      },
      "source": [
        "# **Fit the CNN model**"
      ]
    },
    {
      "cell_type": "code",
      "metadata": {
        "id": "cg_jiBD3Pr99",
        "colab_type": "code",
        "outputId": "dc42d211-4231-43c6-9a3b-59fa41500de6",
        "colab": {
          "base_uri": "https://localhost:8080/",
          "height": 1000
        }
      },
      "source": [
        "print('Fit the model...')\n",
        "t0 = time() #timing counter starts\n",
        "print('The model has started learning...')\n",
        "nepochs=50\n",
        "batch_size=32\n",
        "history=model.fit(train_data, #Learning process starts\n",
        "                  steps_per_epoch=4000//batch_size,\n",
        "                  epochs=nepochs,\n",
        "                  validation_data=valid_data,\n",
        "                  validation_steps=2217//batch_size,\n",
        "                  callbacks=callbacks_list)\n",
        "print('Fit model took', int(time() - t0),'s') #time is calculated with the help of counter"
      ],
      "execution_count": 22,
      "outputs": [
        {
          "output_type": "stream",
          "text": [
            "Fit the model...\n",
            "The model has started learning...\n",
            "Epoch 1/50\n",
            "125/125 [==============================] - 53s 426ms/step - loss: 1.7878 - accuracy: 0.3740 - val_loss: 1.3114 - val_accuracy: 0.3338 - lr: 1.0000e-04\n",
            "Epoch 2/50\n",
            "125/125 [==============================] - 48s 383ms/step - loss: 1.3467 - accuracy: 0.4022 - val_loss: 1.3056 - val_accuracy: 0.3967 - lr: 1.0000e-04\n",
            "Epoch 3/50\n",
            "125/125 [==============================] - 34s 272ms/step - loss: 1.2706 - accuracy: 0.4417 - val_loss: 1.3742 - val_accuracy: 0.3678 - lr: 1.0000e-04\n",
            "Epoch 4/50\n",
            "125/125 [==============================] - 51s 410ms/step - loss: 1.2287 - accuracy: 0.4647 - val_loss: 1.1487 - val_accuracy: 0.4991 - lr: 1.0000e-04\n",
            "Epoch 5/50\n",
            "125/125 [==============================] - 34s 274ms/step - loss: 1.1700 - accuracy: 0.4848 - val_loss: 1.1816 - val_accuracy: 0.5068 - lr: 1.0000e-04\n",
            "Epoch 6/50\n",
            "125/125 [==============================] - 35s 278ms/step - loss: 1.1002 - accuracy: 0.5192 - val_loss: 1.2020 - val_accuracy: 0.4506 - lr: 1.0000e-04\n",
            "Epoch 7/50\n",
            "125/125 [==============================] - 50s 400ms/step - loss: 1.0491 - accuracy: 0.5480 - val_loss: 0.9250 - val_accuracy: 0.6001 - lr: 1.0000e-04\n",
            "Epoch 8/50\n",
            "125/125 [==============================] - 34s 274ms/step - loss: 0.9620 - accuracy: 0.5950 - val_loss: 1.5801 - val_accuracy: 0.4783 - lr: 1.0000e-04\n",
            "Epoch 9/50\n",
            "125/125 [==============================] - 47s 376ms/step - loss: 0.9138 - accuracy: 0.6202 - val_loss: 0.8254 - val_accuracy: 0.6662 - lr: 1.0000e-04\n",
            "Epoch 10/50\n",
            "125/125 [==============================] - 34s 272ms/step - loss: 0.8500 - accuracy: 0.6457 - val_loss: 0.8504 - val_accuracy: 0.6422 - lr: 1.0000e-04\n",
            "Epoch 11/50\n",
            "125/125 [==============================] - 48s 382ms/step - loss: 0.7994 - accuracy: 0.6802 - val_loss: 0.8064 - val_accuracy: 0.6499 - lr: 1.0000e-04\n",
            "Epoch 12/50\n",
            "125/125 [==============================] - 51s 409ms/step - loss: 0.7297 - accuracy: 0.6950 - val_loss: 0.7972 - val_accuracy: 0.6979 - lr: 1.0000e-04\n",
            "Epoch 13/50\n",
            "125/125 [==============================] - 52s 415ms/step - loss: 0.7081 - accuracy: 0.7230 - val_loss: 0.7133 - val_accuracy: 0.7097 - lr: 1.0000e-04\n",
            "Epoch 14/50\n",
            "125/125 [==============================] - 52s 413ms/step - loss: 0.6413 - accuracy: 0.7393 - val_loss: 0.6711 - val_accuracy: 0.7310 - lr: 1.0000e-04\n",
            "Epoch 15/50\n",
            "125/125 [==============================] - 34s 269ms/step - loss: 0.5940 - accuracy: 0.7615 - val_loss: 0.6911 - val_accuracy: 0.7246 - lr: 1.0000e-04\n",
            "Epoch 16/50\n",
            "125/125 [==============================] - 51s 405ms/step - loss: 0.5339 - accuracy: 0.7893 - val_loss: 0.4920 - val_accuracy: 0.8098 - lr: 1.0000e-04\n",
            "Epoch 17/50\n",
            "125/125 [==============================] - 33s 268ms/step - loss: 0.5164 - accuracy: 0.8025 - val_loss: 0.8020 - val_accuracy: 0.6644 - lr: 1.0000e-04\n",
            "Epoch 18/50\n",
            "125/125 [==============================] - 34s 268ms/step - loss: 0.4767 - accuracy: 0.8087 - val_loss: 0.7745 - val_accuracy: 0.7111 - lr: 1.0000e-04\n",
            "Epoch 19/50\n",
            "125/125 [==============================] - 51s 406ms/step - loss: 0.4542 - accuracy: 0.8232 - val_loss: 0.4227 - val_accuracy: 0.8406 - lr: 1.0000e-04\n",
            "Epoch 20/50\n",
            "125/125 [==============================] - 33s 266ms/step - loss: 0.4006 - accuracy: 0.8465 - val_loss: 1.5096 - val_accuracy: 0.5992 - lr: 1.0000e-04\n",
            "Epoch 21/50\n",
            "125/125 [==============================] - 33s 264ms/step - loss: 0.3612 - accuracy: 0.8555 - val_loss: 0.8081 - val_accuracy: 0.7654 - lr: 1.0000e-04\n",
            "Epoch 22/50\n",
            "125/125 [==============================] - 33s 264ms/step - loss: 0.3717 - accuracy: 0.8580 - val_loss: 0.8491 - val_accuracy: 0.7242 - lr: 1.0000e-04\n",
            "Epoch 23/50\n",
            "125/125 [==============================] - 33s 265ms/step - loss: 0.3294 - accuracy: 0.8785 - val_loss: 3.8370 - val_accuracy: 0.5054 - lr: 1.0000e-04\n",
            "Epoch 24/50\n",
            "125/125 [==============================] - 33s 264ms/step - loss: 0.3279 - accuracy: 0.8790 - val_loss: 0.5784 - val_accuracy: 0.7926 - lr: 1.0000e-04\n",
            "Epoch 25/50\n",
            "125/125 [==============================] - 50s 398ms/step - loss: 0.1595 - accuracy: 0.9513 - val_loss: 0.1314 - val_accuracy: 0.9633 - lr: 1.0000e-05\n",
            "Epoch 26/50\n",
            "125/125 [==============================] - 51s 409ms/step - loss: 0.1208 - accuracy: 0.9625 - val_loss: 0.0980 - val_accuracy: 0.9764 - lr: 1.0000e-05\n",
            "Epoch 27/50\n",
            "125/125 [==============================] - 49s 389ms/step - loss: 0.1021 - accuracy: 0.9672 - val_loss: 0.0828 - val_accuracy: 0.9810 - lr: 1.0000e-05\n",
            "Epoch 28/50\n",
            "125/125 [==============================] - 51s 407ms/step - loss: 0.0850 - accuracy: 0.9755 - val_loss: 0.0760 - val_accuracy: 0.9819 - lr: 1.0000e-05\n",
            "Epoch 29/50\n",
            "125/125 [==============================] - 51s 411ms/step - loss: 0.0779 - accuracy: 0.9768 - val_loss: 0.0648 - val_accuracy: 0.9869 - lr: 1.0000e-05\n",
            "Epoch 30/50\n",
            "125/125 [==============================] - 51s 407ms/step - loss: 0.0679 - accuracy: 0.9803 - val_loss: 0.0540 - val_accuracy: 0.9823 - lr: 1.0000e-05\n",
            "Epoch 31/50\n",
            "125/125 [==============================] - 34s 271ms/step - loss: 0.0659 - accuracy: 0.9787 - val_loss: 0.0603 - val_accuracy: 0.9805 - lr: 1.0000e-05\n",
            "Epoch 32/50\n",
            "125/125 [==============================] - 34s 271ms/step - loss: 0.0554 - accuracy: 0.9820 - val_loss: 0.0677 - val_accuracy: 0.9801 - lr: 1.0000e-05\n",
            "Epoch 33/50\n",
            "125/125 [==============================] - 50s 401ms/step - loss: 0.0537 - accuracy: 0.9845 - val_loss: 0.0474 - val_accuracy: 0.9860 - lr: 1.0000e-05\n",
            "Epoch 34/50\n",
            "125/125 [==============================] - 50s 404ms/step - loss: 0.0503 - accuracy: 0.9840 - val_loss: 0.0320 - val_accuracy: 0.9941 - lr: 1.0000e-05\n",
            "Epoch 35/50\n",
            "125/125 [==============================] - 34s 271ms/step - loss: 0.0403 - accuracy: 0.9880 - val_loss: 0.0380 - val_accuracy: 0.9937 - lr: 1.0000e-05\n",
            "Epoch 36/50\n",
            "125/125 [==============================] - 51s 409ms/step - loss: 0.0417 - accuracy: 0.9883 - val_loss: 0.0256 - val_accuracy: 0.9941 - lr: 1.0000e-05\n",
            "Epoch 37/50\n",
            "125/125 [==============================] - 34s 269ms/step - loss: 0.0364 - accuracy: 0.9898 - val_loss: 0.0316 - val_accuracy: 0.9923 - lr: 1.0000e-05\n",
            "Epoch 38/50\n",
            "125/125 [==============================] - 34s 271ms/step - loss: 0.0367 - accuracy: 0.9908 - val_loss: 0.0292 - val_accuracy: 0.9891 - lr: 1.0000e-05\n",
            "Epoch 39/50\n",
            "125/125 [==============================] - 34s 270ms/step - loss: 0.0290 - accuracy: 0.9925 - val_loss: 0.0338 - val_accuracy: 0.9891 - lr: 1.0000e-05\n",
            "Epoch 40/50\n",
            "125/125 [==============================] - 51s 408ms/step - loss: 0.0286 - accuracy: 0.9920 - val_loss: 0.0147 - val_accuracy: 0.9977 - lr: 1.0000e-05\n",
            "Epoch 41/50\n",
            "125/125 [==============================] - 34s 269ms/step - loss: 0.0239 - accuracy: 0.9942 - val_loss: 0.0154 - val_accuracy: 0.9982 - lr: 1.0000e-05\n",
            "Epoch 42/50\n",
            "125/125 [==============================] - 34s 270ms/step - loss: 0.0256 - accuracy: 0.9927 - val_loss: 0.0148 - val_accuracy: 0.9973 - lr: 1.0000e-05\n",
            "Epoch 43/50\n",
            "125/125 [==============================] - 33s 268ms/step - loss: 0.0247 - accuracy: 0.9918 - val_loss: 0.0179 - val_accuracy: 0.9946 - lr: 1.0000e-05\n",
            "Epoch 44/50\n",
            "125/125 [==============================] - 51s 408ms/step - loss: 0.0230 - accuracy: 0.9937 - val_loss: 0.0121 - val_accuracy: 0.9986 - lr: 1.0000e-05\n",
            "Epoch 45/50\n",
            "125/125 [==============================] - 50s 401ms/step - loss: 0.0187 - accuracy: 0.9940 - val_loss: 0.0111 - val_accuracy: 0.9982 - lr: 1.0000e-05\n",
            "Epoch 46/50\n",
            "125/125 [==============================] - 50s 402ms/step - loss: 0.0159 - accuracy: 0.9960 - val_loss: 0.0104 - val_accuracy: 0.9982 - lr: 1.0000e-05\n",
            "Epoch 47/50\n",
            "125/125 [==============================] - 50s 400ms/step - loss: 0.0143 - accuracy: 0.9965 - val_loss: 0.0057 - val_accuracy: 1.0000 - lr: 1.0000e-05\n",
            "Epoch 48/50\n",
            "125/125 [==============================] - 33s 267ms/step - loss: 0.0140 - accuracy: 0.9945 - val_loss: 0.0100 - val_accuracy: 0.9973 - lr: 1.0000e-05\n",
            "Epoch 49/50\n",
            "125/125 [==============================] - 50s 401ms/step - loss: 0.0121 - accuracy: 0.9970 - val_loss: 0.0050 - val_accuracy: 1.0000 - lr: 1.0000e-05\n",
            "Epoch 50/50\n",
            "125/125 [==============================] - 49s 389ms/step - loss: 0.0126 - accuracy: 0.9977 - val_loss: 0.0037 - val_accuracy: 1.0000 - lr: 1.0000e-05\n",
            "Fit model took 2143 s\n"
          ],
          "name": "stdout"
        }
      ]
    },
    {
      "cell_type": "markdown",
      "metadata": {
        "id": "dS-6V8M9PPlu",
        "colab_type": "text"
      },
      "source": [
        "# **Plot the learning curves for Accuracy and Loss**"
      ]
    },
    {
      "cell_type": "code",
      "metadata": {
        "id": "-dBpyrRuV89O",
        "colab_type": "code",
        "outputId": "51d47a51-a76a-4b53-936d-cb93ca328ac0",
        "colab": {
          "base_uri": "https://localhost:8080/",
          "height": 573
        }
      },
      "source": [
        "plt.plot(history.history['accuracy'])\n",
        "plt.plot(history.history['val_accuracy'])\n",
        "plt.title('Training and validation accuracy')\n",
        "plt.ylabel('accuracy')\n",
        "plt.xlabel('epoch')\n",
        "plt.minorticks_on()\n",
        "plt.grid(True)\n",
        "plt.legend(['train', 'validation'], loc='upper left')\n",
        "# save image to disk\n",
        "plt.savefig('RESNET Final Model Accuracy', dpi=250)\n",
        "plt.show()\n",
        "\n",
        "# summarize history for loss\n",
        "plt.plot(history.history['loss'])\n",
        "plt.plot(history.history['val_loss'])\n",
        "plt.title('Training and validation loss')\n",
        "plt.ylabel('loss')\n",
        "plt.xlabel('epoch')\n",
        "plt.minorticks_on()\n",
        "plt.grid(True)\n",
        "plt.legend(['train', 'validation'], loc='upper left')\n",
        "# save image to disk\n",
        "plt.savefig('RESNET Final Model Loss', dpi=250)\n",
        "plt.show()"
      ],
      "execution_count": 23,
      "outputs": [
        {
          "output_type": "display_data",
          "data": {
            "image/png": "[encoded data removed]",
            "text/plain": [
              "<Figure size 432x288 with 1 Axes>"
            ]
          },
          "metadata": {
            "tags": [],
            "needs_background": "light"
          }
        },
        {
          "output_type": "display_data",
          "data": {
            "image/png": "[encoded data removed]",
            "text/plain": [
              "<Figure size 432x288 with 1 Axes>"
            ]
          },
          "metadata": {
            "tags": [],
            "needs_background": "light"
          }
        }
      ]
    },
    {
      "cell_type": "markdown",
      "metadata": {
        "id": "IfeK6dlBPXy9",
        "colab_type": "text"
      },
      "source": [
        "# **Evaluate the model**"
      ]
    },
    {
      "cell_type": "code",
      "metadata": {
        "id": "10SyI4eZWFaN",
        "colab_type": "code",
        "outputId": "51b8ee7b-192d-4b69-c237-ad8907e9ccfe",
        "colab": {
          "base_uri": "https://localhost:8080/",
          "height": 33
        }
      },
      "source": [
        "validation_datagen = ImageDataGenerator(rescale = 1./255)\n",
        "evaluate_datagen = validation_datagen.flow_from_directory(validation_dir, class_mode='categorical', target_size=(224,224), batch_size=1,shuffle=False)"
      ],
      "execution_count": 24,
      "outputs": [
        {
          "output_type": "stream",
          "text": [
            "Found 2217 images belonging to 4 classes.\n"
          ],
          "name": "stdout"
        }
      ]
    },
    {
      "cell_type": "code",
      "metadata": {
        "id": "hKktpvTUWGHB",
        "colab_type": "code",
        "outputId": "392f8b7a-696f-42f0-f3e5-579ec94fc9ee",
        "colab": {
          "base_uri": "https://localhost:8080/",
          "height": 70
        }
      },
      "source": [
        "print('Validate the model')\n",
        "final_result = model.evaluate(\n",
        "    evaluate_datagen,\n",
        "    steps = 2217)"
      ],
      "execution_count": 25,
      "outputs": [
        {
          "output_type": "stream",
          "text": [
            "Validate the model\n",
            "2217/2217 [==============================] - 33s 15ms/step - loss: 0.0037 - accuracy: 1.0000\n"
          ],
          "name": "stdout"
        }
      ]
    },
    {
      "cell_type": "code",
      "metadata": {
        "id": "hJqjG_NWWXy3",
        "colab_type": "code",
        "outputId": "71783e1b-b810-476c-d2f5-7ac3242c4541",
        "colab": {
          "base_uri": "https://localhost:8080/",
          "height": 50
        }
      },
      "source": [
        "t0 = time()\n",
        "evaluate_datagen.reset()\n",
        "val_predict = model.predict(\n",
        "    evaluate_datagen,\n",
        "    steps = 2217,\n",
        "    verbose = 1)\n",
        "print('Time taken to evaluate the model:',int(time()-t0),'seconds')"
      ],
      "execution_count": 26,
      "outputs": [
        {
          "output_type": "stream",
          "text": [
            "2217/2217 [==============================] - 31s 14ms/step\n",
            "Time taken to evaluate the model: 32 seconds\n"
          ],
          "name": "stdout"
        }
      ]
    },
    {
      "cell_type": "markdown",
      "metadata": {
        "id": "uRwli2CcPfs6",
        "colab_type": "text"
      },
      "source": [
        "# **Produce a classification report for Validation set**"
      ]
    },
    {
      "cell_type": "code",
      "metadata": {
        "id": "UMjZgx4oWITH",
        "colab_type": "code",
        "outputId": "6f8464f1-0f8f-49d3-bcf0-556b5e491249",
        "colab": {
          "base_uri": "https://localhost:8080/",
          "height": 33
        }
      },
      "source": [
        "validation_samples = val_predict.shape[0]\n",
        "print('Number of data points in validation set:',validation_samples)"
      ],
      "execution_count": 27,
      "outputs": [
        {
          "output_type": "stream",
          "text": [
            "Number of data points in validation set: 2217\n"
          ],
          "name": "stdout"
        }
      ]
    },
    {
      "cell_type": "code",
      "metadata": {
        "id": "JIXPZyogWfkG",
        "colab_type": "code",
        "colab": {}
      },
      "source": [
        "val_predicted_classes = np.argmax(val_predict, axis = 1)\n",
        "val_true_classes = evaluate_datagen.classes\n",
        "val_class_labels = list(evaluate_datagen.class_indices.keys())"
      ],
      "execution_count": 0,
      "outputs": []
    },
    {
      "cell_type": "markdown",
      "metadata": {
        "id": "ceVs-D1wPmYV",
        "colab_type": "text"
      },
      "source": [
        "Performance metrics for Validation set"
      ]
    },
    {
      "cell_type": "code",
      "metadata": {
        "id": "mEZ-z2bhWhFM",
        "colab_type": "code",
        "outputId": "014c29f5-edba-4877-8c8d-04d598ed1732",
        "colab": {
          "base_uri": "https://localhost:8080/",
          "height": 217
        }
      },
      "source": [
        "validation_report = metrics.classification_report(val_true_classes, val_predicted_classes, target_names=val_class_labels)\n",
        "print('The validation report is as follows:')\n",
        "print(validation_report)"
      ],
      "execution_count": 29,
      "outputs": [
        {
          "output_type": "stream",
          "text": [
            "The validation report is as follows:\n",
            "               precision    recall  f1-score   support\n",
            "\n",
            "chicken_curry       1.00      1.00      1.00       569\n",
            "    hamburger       1.00      1.00      1.00       541\n",
            "     omelette       1.00      1.00      1.00       577\n",
            "      waffles       1.00      1.00      1.00       530\n",
            "\n",
            "     accuracy                           1.00      2217\n",
            "    macro avg       1.00      1.00      1.00      2217\n",
            " weighted avg       1.00      1.00      1.00      2217\n",
            "\n"
          ],
          "name": "stdout"
        }
      ]
    },
    {
      "cell_type": "markdown",
      "metadata": {
        "id": "Ei6_syddPre-",
        "colab_type": "text"
      },
      "source": [
        "Confusion matrix with the numbers of true and predicted labels for each class in Validation set"
      ]
    },
    {
      "cell_type": "code",
      "metadata": {
        "id": "2I_YPBvvWi_f",
        "colab_type": "code",
        "outputId": "ed8b7ff0-1a56-473f-e7c1-19f02d898b4b",
        "colab": {
          "base_uri": "https://localhost:8080/",
          "height": 83
        }
      },
      "source": [
        "val_conf_matrix = tf.math.confusion_matrix(labels=val_true_classes, predictions=val_predicted_classes).numpy()\n",
        "print(val_conf_matrix)"
      ],
      "execution_count": 30,
      "outputs": [
        {
          "output_type": "stream",
          "text": [
            "[[569   0   0   0]\n",
            " [  0 541   0   0]\n",
            " [  0   0 577   0]\n",
            " [  0   0   0 530]]\n"
          ],
          "name": "stdout"
        }
      ]
    },
    {
      "cell_type": "markdown",
      "metadata": {
        "id": "bOtRJYyaP2Fa",
        "colab_type": "text"
      },
      "source": [
        "Visualization of Confusion Matrix for Validation set"
      ]
    },
    {
      "cell_type": "code",
      "metadata": {
        "id": "1SXqZ3IxWmHh",
        "colab_type": "code",
        "outputId": "365c100d-e890-4d91-f620-c95ccebeab95",
        "colab": {
          "base_uri": "https://localhost:8080/",
          "height": 311
        }
      },
      "source": [
        "figure1 = plt.figure()\n",
        "val_conf_matrix = val_conf_matrix.astype('float') / val_conf_matrix.sum(axis=1)[:, np.newaxis]\n",
        "sns.heatmap(val_conf_matrix, annot = True, cmap=plt.cm.Greens)\n",
        "plt.tight_layout()\n",
        "plt.ylabel('True Label')\n",
        "plt.xlabel('Predicted label')\n",
        "plt.savefig('Validation data Confusion Matrix', dpi=250)\n",
        "plt.show()"
      ],
      "execution_count": 31,
      "outputs": [
        {
          "output_type": "display_data",
          "data": {
            "image/png": "[encoded data removed]",
            "text/plain": [
              "<Figure size 432x288 with 2 Axes>"
            ]
          },
          "metadata": {
            "tags": [],
            "needs_background": "light"
          }
        }
      ]
    },
    {
      "cell_type": "markdown",
      "metadata": {
        "id": "NoMFs95HQCVw",
        "colab_type": "text"
      },
      "source": [
        "# **Test the model**"
      ]
    },
    {
      "cell_type": "code",
      "metadata": {
        "id": "SBKA83G-WoGJ",
        "colab_type": "code",
        "outputId": "0a4fbe40-dc3f-416a-d749-f19eb3097a59",
        "colab": {
          "base_uri": "https://localhost:8080/",
          "height": 33
        }
      },
      "source": [
        "testing_datagen = ImageDataGenerator(rescale = 1./255)\n",
        "test_data_datagen = testing_datagen.flow_from_directory(testing_dir, class_mode='categorical', target_size=(224,224), batch_size=1,shuffle=False)"
      ],
      "execution_count": 32,
      "outputs": [
        {
          "output_type": "stream",
          "text": [
            "Found 2128 images belonging to 4 classes.\n"
          ],
          "name": "stdout"
        }
      ]
    },
    {
      "cell_type": "code",
      "metadata": {
        "id": "2z2ceUuSWqld",
        "colab_type": "code",
        "outputId": "a603857d-5ba8-45c3-f54f-a15aeb5afe07",
        "colab": {
          "base_uri": "https://localhost:8080/",
          "height": 70
        }
      },
      "source": [
        "print('Testing the model')\n",
        "final_result = model.evaluate(\n",
        "    test_data_datagen,\n",
        "    steps = 2128)"
      ],
      "execution_count": 33,
      "outputs": [
        {
          "output_type": "stream",
          "text": [
            "Testing the model\n",
            "2128/2128 [==============================] - 31s 14ms/step - loss: 0.0032 - accuracy: 0.9995\n"
          ],
          "name": "stdout"
        }
      ]
    },
    {
      "cell_type": "code",
      "metadata": {
        "id": "qhxESfZqWtiS",
        "colab_type": "code",
        "outputId": "00270c0a-9178-48a6-c65a-c28ab7c22601",
        "colab": {
          "base_uri": "https://localhost:8080/",
          "height": 33
        }
      },
      "source": [
        "test_data_datagen.reset()\n",
        "predict_on_test_data = model.predict(\n",
        "    test_data_datagen,\n",
        "    steps = 2128,\n",
        "    verbose = 1\n",
        ")"
      ],
      "execution_count": 34,
      "outputs": [
        {
          "output_type": "stream",
          "text": [
            "2128/2128 [==============================] - 30s 14ms/step\n"
          ],
          "name": "stdout"
        }
      ]
    },
    {
      "cell_type": "code",
      "metadata": {
        "id": "19-UySqRWv2p",
        "colab_type": "code",
        "outputId": "ad9530f9-93a6-4a40-c204-5e71c528dc77",
        "colab": {
          "base_uri": "https://localhost:8080/",
          "height": 33
        }
      },
      "source": [
        "print('Number of data points in test set:',predict_on_test_data.shape[0])"
      ],
      "execution_count": 35,
      "outputs": [
        {
          "output_type": "stream",
          "text": [
            "Number of data points in test set: 2128\n"
          ],
          "name": "stdout"
        }
      ]
    },
    {
      "cell_type": "markdown",
      "metadata": {
        "id": "_Tw96ECKQGJk",
        "colab_type": "text"
      },
      "source": [
        "# **Produce a classification report for Test set**"
      ]
    },
    {
      "cell_type": "code",
      "metadata": {
        "id": "a_Cht_46WyXu",
        "colab_type": "code",
        "colab": {}
      },
      "source": [
        "predicted_classes = np.argmax(predict_on_test_data,axis=1)\n",
        "predict_true_classes = test_data_datagen.classes\n",
        "predict_class_labels = list(test_data_datagen.class_indices.keys())"
      ],
      "execution_count": 0,
      "outputs": []
    },
    {
      "cell_type": "markdown",
      "metadata": {
        "id": "mYj579BlQLre",
        "colab_type": "text"
      },
      "source": [
        "Performance metrics for Test set"
      ]
    },
    {
      "cell_type": "code",
      "metadata": {
        "id": "sfeZoEg-WzdU",
        "colab_type": "code",
        "outputId": "ca0165af-1064-4935-b143-b05c69b23f3a",
        "colab": {
          "base_uri": "https://localhost:8080/",
          "height": 200
        }
      },
      "source": [
        "test_report = metrics.classification_report(predict_true_classes, predicted_classes, target_names = predict_class_labels)\n",
        "print(test_report)"
      ],
      "execution_count": 37,
      "outputs": [
        {
          "output_type": "stream",
          "text": [
            "               precision    recall  f1-score   support\n",
            "\n",
            "chicken_curry       1.00      1.00      1.00       552\n",
            "    hamburger       1.00      1.00      1.00       534\n",
            "     omelette       1.00      1.00      1.00       518\n",
            "      waffles       1.00      1.00      1.00       524\n",
            "\n",
            "     accuracy                           1.00      2128\n",
            "    macro avg       1.00      1.00      1.00      2128\n",
            " weighted avg       1.00      1.00      1.00      2128\n",
            "\n"
          ],
          "name": "stdout"
        }
      ]
    },
    {
      "cell_type": "markdown",
      "metadata": {
        "id": "Vnms-uicQTpy",
        "colab_type": "text"
      },
      "source": [
        "Confusion matrix with the numbers of true and predicted labels for each class in Test set"
      ]
    },
    {
      "cell_type": "code",
      "metadata": {
        "id": "ayi1YZ58W0xb",
        "colab_type": "code",
        "outputId": "bfbf406c-9193-4503-8ddc-402c36d3115a",
        "colab": {
          "base_uri": "https://localhost:8080/",
          "height": 83
        }
      },
      "source": [
        "test_confusion_matrix = tf.math.confusion_matrix(labels=predict_true_classes,predictions = predicted_classes).numpy()\n",
        "print(test_confusion_matrix)"
      ],
      "execution_count": 38,
      "outputs": [
        {
          "output_type": "stream",
          "text": [
            "[[552   0   0   0]\n",
            " [  1 533   0   0]\n",
            " [  0   0 518   0]\n",
            " [  0   0   0 524]]\n"
          ],
          "name": "stdout"
        }
      ]
    },
    {
      "cell_type": "markdown",
      "metadata": {
        "id": "xVJTy5MUQbsH",
        "colab_type": "text"
      },
      "source": [
        "Visualization of Confusion Matrix for Test set"
      ]
    },
    {
      "cell_type": "code",
      "metadata": {
        "id": "iO0gp59aW3V9",
        "colab_type": "code",
        "outputId": "0968945d-cd4f-4062-c9ac-47cc44fbbec7",
        "colab": {
          "base_uri": "https://localhost:8080/",
          "height": 311
        }
      },
      "source": [
        "figure1 = plt.figure()\n",
        "test_confusion_matrix = test_confusion_matrix.astype('float') / test_confusion_matrix.sum(axis=1)[:, np.newaxis]\n",
        "sns.heatmap(test_confusion_matrix, annot = True, cmap=plt.cm.Greens)\n",
        "plt.tight_layout()\n",
        "plt.ylabel('True Label')\n",
        "plt.xlabel('Predicted label')\n",
        "plt.savefig('Test data Confusion Matrix', dpi=250)\n",
        "plt.show()"
      ],
      "execution_count": 41,
      "outputs": [
        {
          "output_type": "display_data",
          "data": {
            "image/png": "[encoded data removed]",
            "text/plain": [
              "<Figure size 432x288 with 2 Axes>"
            ]
          },
          "metadata": {
            "tags": [],
            "needs_background": "light"
          }
        }
      ]
    },
    {
      "cell_type": "markdown",
      "metadata": {
        "id": "ndVcg382QjoM",
        "colab_type": "text"
      },
      "source": [
        "# **Save the final CNN model**"
      ]
    },
    {
      "cell_type": "code",
      "metadata": {
        "id": "IYpZtT_vwFdC",
        "colab_type": "code",
        "outputId": "bf36b5ab-b925-43f7-afc0-803db3b6553c",
        "colab": {
          "base_uri": "https://localhost:8080/",
          "height": 33
        }
      },
      "source": [
        "model_json = model.to_json()\n",
        "with open(\"model.json\",\"w\") as json_file:\n",
        "  json_file.write(model_json)\n",
        "  #serializing the weights to HDF5\n",
        "model.save('RESNET-Final-Model.h5')\n",
        "print('Model saved to the disk')"
      ],
      "execution_count": 42,
      "outputs": [
        {
          "output_type": "stream",
          "text": [
            "Model saved to the disk\n"
          ],
          "name": "stdout"
        }
      ]
    },
    {
      "cell_type": "markdown",
      "metadata": {
        "id": "hBvAwfHFQple",
        "colab_type": "text"
      },
      "source": [
        "# **Load the final CNN model**"
      ]
    },
    {
      "cell_type": "code",
      "metadata": {
        "id": "7Rv1Xp6DwJzk",
        "colab_type": "code",
        "outputId": "99dd3d81-9e90-4576-e559-f1cc76f78f9b",
        "colab": {
          "base_uri": "https://localhost:8080/",
          "height": 33
        }
      },
      "source": [
        "json_file = open('model.json','r')\n",
        "loaded_json_model = json_file.read()\n",
        "json_file.close()\n",
        "loaded_model=model_from_json(loaded_json_model)\n",
        "loaded_model.load_weights(\"RESNET-Final-Model.h5\")\n",
        "print(\"Loaded the model from disk\")"
      ],
      "execution_count": 43,
      "outputs": [
        {
          "output_type": "stream",
          "text": [
            "Loaded the model from disk\n"
          ],
          "name": "stdout"
        }
      ]
    },
    {
      "cell_type": "markdown",
      "metadata": {
        "id": "dnkZTH3jUzIE",
        "colab_type": "text"
      },
      "source": [
        "# **Author: Japesh Methuku**"
      ]
    }
  ]
}
